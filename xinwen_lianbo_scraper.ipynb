{
 "cells": [
  {
   "cell_type": "code",
   "execution_count": 82,
   "metadata": {},
   "outputs": [],
   "source": [
    "import pandas as pd\n",
    "import selenium\n",
    "from selenium import webdriver\n",
    "from selenium.webdriver.common.keys import Keys\n",
    "import time\n",
    "import os\n",
    "import re\n",
    "import requests\n",
    "from bs4 import BeautifulSoup\n",
    "import numpy as np\n",
    "import urllib\n",
    "import urllib.request\n",
    "import json\n",
    "import datetime\n",
    "from selenium.webdriver.common.by import By\n",
    "\n",
    "import markdownify"
   ]
  },
  {
   "cell_type": "code",
   "execution_count": 83,
   "metadata": {},
   "outputs": [],
   "source": [
    "# generate dates MM/DD/YYYY as a string for every day from 01/01/2007 to 2/26/2024\n",
    "# this is the date range of the data we are scraping\n",
    "start_date = datetime.date(2007, 1, 1)\n",
    "end_date = datetime.date(2024, 2, 26)\n",
    "delta = datetime.timedelta(days=1)\n",
    "dates = []\n",
    "while start_date <= end_date:\n",
    "    dates.append(start_date.strftime(\"%Y%m%d\"))\n",
    "    start_date += delta"
   ]
  },
  {
   "cell_type": "code",
   "execution_count": 84,
   "metadata": {},
   "outputs": [],
   "source": [
    "base_url = 'https://cn.govopendata.com/xinwenlianbo/'"
   ]
  },
  {
   "cell_type": "code",
   "execution_count": 85,
   "metadata": {},
   "outputs": [],
   "source": [
    "options = webdriver.ChromeOptions()\n",
    "options.add_argument('load-extension=' \n",
    "                     +'/Users/johnathansun/Library/Application Support/Google/Chrome/Default/Extensions/cjpalhdlnbpafiamejdnhcphjbkeiagm/1.55.0_0')\n",
    "driver = webdriver.Chrome(options)"
   ]
  },
  {
   "cell_type": "code",
   "execution_count": 86,
   "metadata": {},
   "outputs": [],
   "source": [
    "failed_dates = []\n",
    "successful_dates = []\n",
    "\n",
    "saved_as_txt = []\n",
    "saved_as_md = []"
   ]
  },
  {
   "cell_type": "code",
   "execution_count": 87,
   "metadata": {},
   "outputs": [
    {
     "data": {
      "text/plain": [
       "6266"
      ]
     },
     "execution_count": 87,
     "metadata": {},
     "output_type": "execute_result"
    }
   ],
   "source": [
    "len(dates)"
   ]
  },
  {
   "cell_type": "code",
   "execution_count": 89,
   "metadata": {},
   "outputs": [],
   "source": [
    "for date in dates:\n",
    "    driver.get(base_url + date + '/')\n",
    "    time.sleep(3)\n",
    "    try:\n",
    "        container = driver.find_elements(By.CLASS_NAME, 'container')[0]\n",
    "        html = container.get_attribute('innerHTML')\n",
    "        txt = container.text\n",
    "        md = markdownify.markdownify(html, heading_style='ATX')\n",
    "        successful_dates = []\n",
    "\n",
    "        with open('xinwen_lianbo_txt/' + date + '.txt', 'w') as f:\n",
    "            f.write(txt)\n",
    "            saved_as_txt.append(date)\n",
    "\n",
    "        with open('xinwen_lianbo_md/' + date + '.md', 'w') as f:\n",
    "            f.write(md)\n",
    "            saved_as_md.append(date)\n",
    "\n",
    "    except:\n",
    "        failed_dates.append(date)\n",
    "        continue"
   ]
  },
  {
   "cell_type": "code",
   "execution_count": 69,
   "metadata": {},
   "outputs": [],
   "source": [
    "driver.get(base_url + dates[-2] + '/')"
   ]
  },
  {
   "cell_type": "code",
   "execution_count": 70,
   "metadata": {},
   "outputs": [],
   "source": [
    "container = driver.find_elements(By.CLASS_NAME, 'container')[0]"
   ]
  },
  {
   "cell_type": "code",
   "execution_count": 76,
   "metadata": {},
   "outputs": [],
   "source": [
    "# save container.text to a text file\n",
    "with open('test.txt', 'w') as f:\n",
    "    f.write(container.text)"
   ]
  },
  {
   "cell_type": "code",
   "execution_count": 71,
   "metadata": {},
   "outputs": [],
   "source": [
    "# get html from the container class\n",
    "html = container.get_attribute('innerHTML')"
   ]
  },
  {
   "cell_type": "code",
   "execution_count": 73,
   "metadata": {},
   "outputs": [],
   "source": [
    "md_test = markdownify.markdownify(html, heading_style=\"ATX\") "
   ]
  },
  {
   "cell_type": "code",
   "execution_count": 74,
   "metadata": {},
   "outputs": [],
   "source": [
    "# save md_test to markdown file\n",
    "with open('test.md', 'w') as f:\n",
    "    f.write(md_test)"
   ]
  }
 ],
 "metadata": {
  "kernelspec": {
   "display_name": "farallon",
   "language": "python",
   "name": "python3"
  },
  "language_info": {
   "codemirror_mode": {
    "name": "ipython",
    "version": 3
   },
   "file_extension": ".py",
   "mimetype": "text/x-python",
   "name": "python",
   "nbconvert_exporter": "python",
   "pygments_lexer": "ipython3",
   "version": "3.10.12"
  }
 },
 "nbformat": 4,
 "nbformat_minor": 2
}
